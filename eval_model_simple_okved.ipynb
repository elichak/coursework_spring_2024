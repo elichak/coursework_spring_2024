{
 "cells": [
  {
   "cell_type": "code",
   "execution_count": 21,
   "metadata": {},
   "outputs": [],
   "source": [
    "import numpy as np\n",
    "import pandas as pd\n",
    "from sklearn.preprocessing import StandardScaler\n",
    "import pickle\n",
    "import matplotlib.pyplot as plt\n",
    "from tqdm import tqdm"
   ]
  },
  {
   "cell_type": "code",
   "execution_count": 2,
   "metadata": {},
   "outputs": [],
   "source": [
    "def fix_okved(o: str) -> str:\n",
    "    if o is None:\n",
    "        return\n",
    "\n",
    "    while o[-1] == '0' and '.' in o:\n",
    "        if o[-2] == '.':\n",
    "            o = o[:-2]\n",
    "        else:\n",
    "            o = o[:-1]\n",
    "    return o"
   ]
  },
  {
   "cell_type": "code",
   "execution_count": 14,
   "metadata": {},
   "outputs": [],
   "source": [
    "okved_data = pd.read_csv('../data/okved2/okved_2014_w_sections.csv', \n",
    "                         index_col=0, \n",
    "                         dtype={'code_okved': str})\n",
    "sections = okved_data['section_id'].values\n",
    "\n",
    "idx_to_okved = {0: 'root'}\n",
    "idx_to_okved |= okved_data['native_code'].to_dict()\n",
    "okved_to_idx = {v: k for k, v in idx_to_okved.items()}\n",
    "\n",
    "embeddings_bert = np.load('../data/okved2/okved_embeddings.npy')\n",
    "embeddings_model = np.load('../embeddings/embeddings_loss_1_42.npy')\n",
    "embedding_simple = np.array([list(o) for o in okved_data['code_okved'].values]).astype(int)\n",
    "\n",
    "okved_consumption = pd.read_csv('../data/stats/okved_consumption.csv')"
   ]
  },
  {
   "cell_type": "code",
   "execution_count": 19,
   "metadata": {},
   "outputs": [],
   "source": [
    "prov_indices = okved_consumption['okved_provider'].map(fix_okved).map(okved_to_idx)\n",
    "cons_indices = okved_consumption['okved_consumer'].map(fix_okved).map(okved_to_idx)\n",
    "\n",
    "X_bert = np.column_stack((embeddings_bert[prov_indices], embeddings_bert[cons_indices]))\n",
    "X_bert = StandardScaler().fit_transform(X_bert)\n",
    "X_model = np.column_stack((embeddings_model[prov_indices], embeddings_model[cons_indices]))\n",
    "X_model = StandardScaler().fit_transform(X_model)\n",
    "\n",
    "X_simple = np.column_stack((embedding_simple[prov_indices], embedding_simple[cons_indices]))\n",
    "# X_simple = StandardScaler().fit_transform(X_simple)\n",
    "\n",
    "y = okved_consumption['normalized_consumption']"
   ]
  },
  {
   "cell_type": "code",
   "execution_count": 20,
   "metadata": {},
   "outputs": [
    {
     "name": "stdout",
     "output_type": "stream",
     "text": [
      "Модель:  0.11335818332893977\n",
      "Берт:  0.09975118568076236\n",
      "Простой:  0.02483243488742759\n"
     ]
    }
   ],
   "source": [
    "from sklearn.linear_model import LinearRegression\n",
    "from sklearn.neural_network import MLPRegressor\n",
    "\n",
    "model = LinearRegression().fit(X_model, y )\n",
    "score = model.score(X_model, y) \n",
    "print('Модель: ', score)\n",
    "\n",
    "model = LinearRegression().fit(X_bert, y)\n",
    "score = model.score(X_bert, y) \n",
    "print('Берт: ', score)\n",
    "\n",
    "model = LinearRegression().fit(X_simple, y)\n",
    "score = model.score(X_simple, y) \n",
    "print('Простой: ', score)"
   ]
  },
  {
   "cell_type": "code",
   "execution_count": 80,
   "metadata": {},
   "outputs": [
    {
     "data": {
      "text/plain": [
       "Six-digit code    0.0248\n",
       "BERT              0.0998\n",
       "GNN               0.1133\n",
       "dtype: float64"
      ]
     },
     "execution_count": 80,
     "metadata": {},
     "output_type": "execute_result"
    }
   ],
   "source": [
    "lrs"
   ]
  },
  {
   "cell_type": "code",
   "execution_count": 83,
   "metadata": {},
   "outputs": [
    {
     "data": {
      "text/plain": [
       "Text(0, 0.5, '$R^2$')"
      ]
     },
     "execution_count": 83,
     "metadata": {},
     "output_type": "execute_result"
    },
    {
     "data": {
      "image/png": "[encoded data removed]",
      "text/plain": [
       "<Figure size 432x288 with 1 Axes>"
      ]
     },
     "metadata": {
      "needs_background": "light"
     },
     "output_type": "display_data"
    }
   ],
   "source": [
    "lrs = pd.Series([0.1133, 0.0998, 0.0248], index=['GNN', 'BERT', 'Six-digit code']).sort_values()\n",
    "ax = sns.barplot(x=lrs.index, y=lrs.values, palette=['blue', 'orange', 'green'])\n",
    "ax.set_title('Quality of the linear regression model for solving \\nthe problem of prediction an input–output model\\'s matrix')\n",
    "ax.set_xlabel('Encoding method')\n",
    "ax.set_ylabel('$R^2$')"
   ]
  },
  {
   "cell_type": "code",
   "execution_count": null,
   "metadata": {},
   "outputs": [],
   "source": [
    "bert_scores = []\n",
    "for i in range(100):\n",
    "    model = MLPRegressor().fit(X_bert, y)\n",
    "    score = model.score(X_bert, y) \n",
    "    bert_scores.append(score)"
   ]
  },
  {
   "cell_type": "code",
   "execution_count": null,
   "metadata": {},
   "outputs": [],
   "source": [
    "model_scores = []\n",
    "for i in range(100):\n",
    "    model = MLPRegressor().fit(X_model, y)\n",
    "    score = model.score(X_model, y) \n",
    "    model_scores.append(score)"
   ]
  },
  {
   "cell_type": "code",
   "execution_count": 29,
   "metadata": {},
   "outputs": [
    {
     "name": "stderr",
     "output_type": "stream",
     "text": [
      "100%|██████████| 100/100 [01:59<00:00,  1.19s/it]\n"
     ]
    }
   ],
   "source": [
    "simple_scores = []\n",
    "for i in tqdm(range(100)):\n",
    "    model = MLPRegressor().fit(X_simple, y)\n",
    "    score = model.score(X_simple, y) \n",
    "    simple_scores.append(score)"
   ]
  },
  {
   "cell_type": "code",
   "execution_count": null,
   "metadata": {},
   "outputs": [],
   "source": [
    "# with open('scores.pickle', 'wb') as fp:\n",
    "#     pickle.dump({\"model_scores\":model_scores, \"bert_scores\": bert_scores}, fp)"
   ]
  },
  {
   "cell_type": "code",
   "execution_count": null,
   "metadata": {},
   "outputs": [
    {
     "name": "stdout",
     "output_type": "stream",
     "text": [
      "Модель: 0.33±0.28\n",
      "Берт: 0.13±0.46\n"
     ]
    }
   ],
   "source": [
    "print(f'Модель: {np.mean(model_scores):.2f}±{np.std(model_scores):.2f}')\n",
    "print(f'Берт: {np.mean(bert_scores):.2f}±{np.std(bert_scores):.2f}')"
   ]
  },
  {
   "cell_type": "code",
   "execution_count": 30,
   "metadata": {},
   "outputs": [
    {
     "name": "stdout",
     "output_type": "stream",
     "text": [
      "Простой: -0.37±0.13\n"
     ]
    }
   ],
   "source": [
    "print(f'Простой: {np.mean(simple_scores):.2f}±{np.std(simple_scores):.2f}')"
   ]
  },
  {
   "cell_type": "code",
   "execution_count": 35,
   "metadata": {},
   "outputs": [],
   "source": [
    "with open('scores.pickle', 'rb') as fp:\n",
    "    data = pickle.load(fp)\n",
    "    model_scores = data['model_scores']\n",
    "    bert_scores = data['bert_scores']"
   ]
  },
  {
   "cell_type": "code",
   "execution_count": 36,
   "metadata": {},
   "outputs": [
    {
     "name": "stdout",
     "output_type": "stream",
     "text": [
      "Модель: 0.33±0.28\n",
      "Берт: 0.13±0.46\n"
     ]
    }
   ],
   "source": [
    "print(f'Модель: {np.mean(model_scores):.2f}±{np.std(model_scores):.2f}')\n",
    "print(f'Берт: {np.mean(bert_scores):.2f}±{np.std(bert_scores):.2f}')"
   ]
  },
  {
   "cell_type": "code",
   "execution_count": 70,
   "metadata": {},
   "outputs": [
    {
     "name": "stdout",
     "output_type": "stream",
     "text": [
      "Модель: [0.23 0.39 0.52]\n",
      "Берт: [-0.1   0.24  0.48]\n",
      "Простой: [-0.46 -0.36 -0.27]\n"
     ]
    }
   ],
   "source": [
    "print(f'Модель: {np.around(np.quantile(model_scores, q=[0.25, 0.5, 0.75]), decimals=2)}')\n",
    "print(f'Берт: {np.around(np.quantile(bert_scores, q=[0.25, 0.5, 0.75]), decimals=2)}')\n",
    "print(f'Простой: {np.around(np.quantile(simple_scores, q=[0.25, 0.5, 0.75]), decimals=2)}')"
   ]
  },
  {
   "cell_type": "code",
   "execution_count": 85,
   "metadata": {},
   "outputs": [
    {
     "data": {
      "text/plain": [
       "Text(0.5, 1.0, \"Quality of the NN model for solving the problem of prediction an input–output model's matrix\")"
      ]
     },
     "execution_count": 85,
     "metadata": {},
     "output_type": "execute_result"
    },
    {
     "data": {
      "image/png": "[encoded data removed]",
      "text/plain": [
       "<Figure size 720x360 with 1 Axes>"
      ]
     },
     "metadata": {
      "needs_background": "light"
     },
     "output_type": "display_data"
    }
   ],
   "source": [
    "import seaborn as sns\n",
    "\n",
    "df = pd.DataFrame({'GNN': model_scores, \n",
    "                   'BERT': bert_scores, \n",
    "                   'Six-digit code': simple_scores})\n",
    "fig, ax = plt.subplots(figsize=(10, 5))\n",
    "ax = sns.boxplot(y='variable', x='value', data=df.melt(), ax=ax, orient='h', palette=['green', 'orange', 'blue'])\n",
    "ax.set_xlabel('$R^2$ value')\n",
    "ax.set_ylabel('Encoding method')\n",
    "ax.set_title('Quality of the NN model for solving the problem of prediction an input–output model\\'s matrix')"
   ]
  },
  {
   "cell_type": "markdown",
   "metadata": {},
   "source": []
  },
  {
   "cell_type": "code",
   "execution_count": 55,
   "metadata": {},
   "outputs": [
    {
     "name": "stderr",
     "output_type": "stream",
     "text": [
      "C:\\Users\\Nikita\\AppData\\Local\\Temp/ipykernel_6584/445187904.py:2: SettingWithCopyWarning: \n",
      "A value is trying to be set on a copy of a slice from a DataFrame.\n",
      "Try using .loc[row_indexer,col_indexer] = value instead\n",
      "\n",
      "See the caveats in the documentation: https://pandas.pydata.org/pandas-docs/stable/user_guide/indexing.html#returning-a-view-versus-a-copy\n",
      "  okved_consumption_cut.loc[:, 'okved_provider'] = okved_consumption_cut['okved_provider'].map(fix_okved)\n",
      "C:\\Users\\Nikita\\AppData\\Local\\Temp/ipykernel_6584/445187904.py:3: SettingWithCopyWarning: \n",
      "A value is trying to be set on a copy of a slice from a DataFrame.\n",
      "Try using .loc[row_indexer,col_indexer] = value instead\n",
      "\n",
      "See the caveats in the documentation: https://pandas.pydata.org/pandas-docs/stable/user_guide/indexing.html#returning-a-view-versus-a-copy\n",
      "  okved_consumption_cut.loc[:, 'okved_consumer'] = okved_consumption_cut['okved_consumer'].map(fix_okved)\n"
     ]
    }
   ],
   "source": [
    "okved_consumption_cut = okved_consumption.query('okved_provider != okved_consumer')\n",
    "okved_consumption_cut.loc[:, 'okved_provider'] = okved_consumption_cut['okved_provider'].map(fix_okved)\n",
    "okved_consumption_cut.loc[:, 'okved_consumer'] = okved_consumption_cut['okved_consumer'].map(fix_okved)\n",
    "\n",
    "prov_indices = okved_consumption_cut['okved_provider'].map(okved_to_idx)\n",
    "cons_indices = okved_consumption_cut['okved_consumer'].map(okved_to_idx)\n",
    "y = okved_consumption_cut['normalized_consumption']"
   ]
  },
  {
   "cell_type": "code",
   "execution_count": 56,
   "metadata": {},
   "outputs": [],
   "source": [
    "from sklearn.metrics import pairwise_distances"
   ]
  },
  {
   "cell_type": "code",
   "execution_count": 57,
   "metadata": {},
   "outputs": [],
   "source": [
    "def max_provider(group):\n",
    "    return group.loc[group['normalized_consumption'].idxmax(), 'okved_provider']\n",
    "\n",
    "def mrr(okved_consumption, embeddings):\n",
    "    largest_provider = okved_consumption.groupby('okved_consumer').apply(max_provider)\n",
    "    largest_provider_idx = largest_provider.map(okved_to_idx)\n",
    "    \n",
    "    all_providers = okved_consumption['okved_provider'].unique()\n",
    "    all_providers_idx = np.array([okved_to_idx[o] for o in all_providers])\n",
    "    all_providers_emb = embeddings[all_providers_idx]\n",
    "    pwd = pairwise_distances(all_providers_emb)\n",
    "\n",
    "    rs = []\n",
    "    for idx, provider_code in enumerate(all_providers):\n",
    "        if provider_code not in largest_provider_idx.index:\n",
    "            print(f'Skipping {provider_code}...')\n",
    "            continue\n",
    "        sorted_idx = all_providers_idx[np.argsort(pwd[idx])]\n",
    "        rank, = np.where(sorted_idx==largest_provider_idx[provider_code])\n",
    "        rs.append(rank[0])\n",
    "    rs = np.array(rs)\n",
    "    return np.mean(1 / (rs + 1))"
   ]
  },
  {
   "cell_type": "markdown",
   "metadata": {},
   "source": [
    "Quality of different encoding approaches for finding the closest industries"
   ]
  },
  {
   "cell_type": "code",
   "execution_count": 87,
   "metadata": {},
   "outputs": [
    {
     "name": "stdout",
     "output_type": "stream",
     "text": [
      "Skipping 94...\n",
      "Skipping 97...\n",
      "Skipping 94...\n",
      "Skipping 97...\n",
      "Skipping 94...\n",
      "Skipping 97...\n"
     ]
    },
    {
     "data": {
      "text/plain": [
       "Text(0, 0.5, 'MRR')"
      ]
     },
     "execution_count": 87,
     "metadata": {},
     "output_type": "execute_result"
    },
    {
     "data": {
      "image/png": "[encoded data removed]",
      "text/plain": [
       "<Figure size 432x288 with 1 Axes>"
      ]
     },
     "metadata": {
      "needs_background": "light"
     },
     "output_type": "display_data"
    }
   ],
   "source": [
    "mrr_rgcn = mrr(okved_consumption_cut, embeddings_model)\n",
    "mrr_bert = mrr(okved_consumption_cut, embeddings_bert)\n",
    "mrr_simple = mrr(okved_consumption_cut, embedding_simple)\n",
    "mrrs = pd.Series([mrr_bert, mrr_rgcn, mrr_simple], index=['BERT', 'GNN', 'Six-digit code']).sort_values()\n",
    "ax = sns.barplot(x=mrrs.index, y=mrrs.values, palette=['blue', 'orange', 'green'])\n",
    "ax.set_title('Quality of different encoding approaches for finding the closest industries')\n",
    "ax.set_xlabel('Encoding method')\n",
    "ax.set_ylabel('MRR')"
   ]
  },
  {
   "cell_type": "code",
   "execution_count": 71,
   "metadata": {},
   "outputs": [
    {
     "data": {
      "text/plain": [
       "0.05775211626022114"
      ]
     },
     "execution_count": 71,
     "metadata": {},
     "output_type": "execute_result"
    }
   ],
   "source": [
    "mrr_simple"
   ]
  },
  {
   "cell_type": "code",
   "execution_count": null,
   "metadata": {},
   "outputs": [],
   "source": []
  }
 ],
 "metadata": {
  "interpreter": {
   "hash": "f275dda05a51541b85252c6644117ea1540a8f7bab421bbf9ab4160d7984753d"
  },
  "kernelspec": {
   "display_name": "Python 3.9.7 ('okved_embeddings')",
   "language": "python",
   "name": "python3"
  },
  "language_info": {
   "codemirror_mode": {
    "name": "ipython",
    "version": 3
   },
   "file_extension": ".py",
   "mimetype": "text/x-python",
   "name": "python",
   "nbconvert_exporter": "python",
   "pygments_lexer": "ipython3",
   "version": "3.9.7"
  },
  "orig_nbformat": 4
 },
 "nbformat": 4,
 "nbformat_minor": 2
}
