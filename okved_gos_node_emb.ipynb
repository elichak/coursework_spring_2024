{
 "cells": [
  {
   "cell_type": "code",
   "execution_count": 2,
   "metadata": {},
   "outputs": [
    {
     "name": "stderr",
     "output_type": "stream",
     "text": [
      "c:\\Users\\egrli\\envs\\okved_embeddings\\lib\\site-packages\\tqdm\\auto.py:21: TqdmWarning: IProgress not found. Please update jupyter and ipywidgets. See https://ipywidgets.readthedocs.io/en/stable/user_install.html\n",
      "  from .autonotebook import tqdm as notebook_tqdm\n"
     ]
    }
   ],
   "source": [
    "# this notebook is used to create embs of all contracts for this okved\n",
    "import pandas as pd\n",
    "from pathlib import Path\n",
    "import sqlite3\n",
    "import joblib\n",
    "from transformers import AutoModel, AutoTokenizer\n",
    "from data.build_okved_dataset import embed_bert_cls\n",
    "from tqdm import tqdm\n",
    "import numpy as np"
   ]
  },
  {
   "cell_type": "markdown",
   "metadata": {},
   "source": [
    "Добавим следующую информацию:\\\n",
    "В узлы: \n",
    "1. `эмбеддинги госзакупок`\n",
    "\n",
    "В ребра: \n",
    "1. `Объем госзакупок между ОКВЭДами`"
   ]
  },
  {
   "cell_type": "code",
   "execution_count": 3,
   "metadata": {},
   "outputs": [],
   "source": [
    "OKVED_ROOT = Path(r'C:\\Users\\egrli\\FU_Projects\\Курсач\\intelligent_okved_embeddings\\data\\okved2')\n",
    "DB_ROOT = Path(r\"C:\\Users\\egrli\\FU_Projects\\Курсач\\intelligent_okved_embeddings\\data\\db\")\n",
    "okved_data = pd.read_csv(OKVED_ROOT / 'okved_2014_w_sections.csv',\n",
    "                            index_col=0,\n",
    "                            dtype={'code': str,\n",
    "                                'code_okved': str,\n",
    "                                'parent_code': str,\n",
    "                                'native_code': str})"
   ]
  },
  {
   "cell_type": "code",
   "execution_count": 4,
   "metadata": {},
   "outputs": [],
   "source": [
    "con = sqlite3.connect(DB_ROOT / \"okved_20230329.sqlite3\")\n",
    "cur = con.cursor()"
   ]
  },
  {
   "cell_type": "code",
   "execution_count": 5,
   "metadata": {},
   "outputs": [],
   "source": [
    "tables = cur.execute(\"\"\"\n",
    "  SELECT * FROM sqlite_master where type='table'\n",
    "  -- LIMIT 5\n",
    "\"\"\").fetchall()\n",
    "table_names = list(\n",
    "    map(\n",
    "        lambda x: x[1],\n",
    "        tables\n",
    "    )\n",
    ")\n",
    "table_to_info = {}\n",
    "for table_name in table_names:\n",
    "    table_to_info[table_name] = pd.DataFrame(cur.execute(f\"\"\"\n",
    "PRAGMA table_info({table_name});\n",
    "\"\"\").fetchall()).drop(columns=[0, 3, 4, 5])"
   ]
  },
  {
   "cell_type": "code",
   "execution_count": 6,
   "metadata": {},
   "outputs": [
    {
     "data": {
      "text/plain": [
       "dict_keys(['natural_person', 'supplier', 'okved', 'legal_entity', 'product', 'company_to_okved', 'company_to_natural_member', 'company_to_legal_member', 'procurement'])"
      ]
     },
     "execution_count": 6,
     "metadata": {},
     "output_type": "execute_result"
    }
   ],
   "source": [
    "table_to_info.keys()"
   ]
  },
  {
   "cell_type": "markdown",
   "metadata": {},
   "source": [
    "## Эмбеддинги узлов окведов"
   ]
  },
  {
   "cell_type": "code",
   "execution_count": 7,
   "metadata": {},
   "outputs": [],
   "source": [
    "query = \"\"\"\n",
    "  SELECT \n",
    "  le.main_okved_code,\n",
    "  GROUP_CONCAT(DISTINCT p.object) --p.object=p.name\n",
    "  --p.method, \n",
    "  --p.name, \n",
    "  --p.executor_inn, \n",
    "  FROM procurement AS p\n",
    "  INNER JOIN legal_entity AS le \n",
    "  ON p.executor_inn=le.inn\n",
    "  WHERE le.main_okved_code IS NOT NULL\n",
    "  GROUP BY le.main_okved_code\n",
    "  --LIMIT 10; \n",
    "\"\"\"\n",
    "okved_to_agg_info_orders = pd.DataFrame(cur.execute(query).fetchall(), columns=['okved', 'agg_contracts'])"
   ]
  },
  {
   "cell_type": "code",
   "execution_count": 8,
   "metadata": {},
   "outputs": [],
   "source": [
    "okved_to_agg_info_orders = okved_to_agg_info_orders.merge(okved_data, how='inner', left_on='okved', right_on='native_code')[[\"okved\", \"agg_contracts\"]]"
   ]
  },
  {
   "cell_type": "code",
   "execution_count": 9,
   "metadata": {},
   "outputs": [],
   "source": [
    "okved_to_number_mapping = {code : i for i, code in enumerate(okved_to_agg_info_orders['okved'].values.tolist())}"
   ]
  },
  {
   "cell_type": "code",
   "execution_count": 10,
   "metadata": {},
   "outputs": [],
   "source": [
    "joblib.dump(value=okved_to_number_mapping, filename=OKVED_ROOT / 'okved_to_number_mapping.pickle');"
   ]
  },
  {
   "cell_type": "code",
   "execution_count": 11,
   "metadata": {},
   "outputs": [],
   "source": [
    "model_name = \"cointegrated/rubert-tiny2\" # эмбеддинги- 312 (неужели мы в узлы больше ничего не берем)\n",
    "model = AutoModel.from_pretrained(model_name)\n",
    "tokenizer = AutoTokenizer.from_pretrained(model_name)"
   ]
  },
  {
   "cell_type": "code",
   "execution_count": 12,
   "metadata": {},
   "outputs": [
    {
     "name": "stderr",
     "output_type": "stream",
     "text": [
      "100%|██████████| 549/549 [00:47<00:00, 11.58it/s]\n"
     ]
    }
   ],
   "source": [
    "embds = []\n",
    "for text in tqdm(okved_to_agg_info_orders['agg_contracts']):\n",
    "    embds.append(embed_bert_cls(text=text, model=model, tokenizer=tokenizer, truncation=True))\n",
    "embds = np.concatenate(embds)\n",
    "np.save(file=OKVED_ROOT / \"okved_contact_emb.npy\", arr=embds)"
   ]
  },
  {
   "cell_type": "markdown",
   "metadata": {},
   "source": [
    "## Объем средств в гос-контрактах между оквэдами"
   ]
  },
  {
   "cell_type": "code",
   "execution_count": 46,
   "metadata": {},
   "outputs": [
    {
     "name": "stderr",
     "output_type": "stream",
     "text": [
      "100%|██████████| 2314058/2314058 [00:02<00:00, 932762.12it/s]\n",
      "100%|██████████| 22915/22915 [00:00<00:00, 24476.05it/s]\n"
     ]
    }
   ],
   "source": []
  },
  {
   "cell_type": "code",
   "execution_count": 48,
   "metadata": {},
   "outputs": [
    {
     "data": {
      "text/plain": [
       "(2637, 312)"
      ]
     },
     "execution_count": 48,
     "metadata": {},
     "output_type": "execute_result"
    }
   ],
   "source": [
    "gos_contracts_embeddings.shape"
   ]
  },
  {
   "cell_type": "code",
   "execution_count": 49,
   "metadata": {},
   "outputs": [
    {
     "data": {
      "text/plain": [
       "torch.Size([2637, 312])"
      ]
     },
     "execution_count": 49,
     "metadata": {},
     "output_type": "execute_result"
    }
   ],
   "source": [
    "okved_embeddings.shape"
   ]
  },
  {
   "cell_type": "code",
   "execution_count": 17,
   "metadata": {},
   "outputs": [],
   "source": [
    "g = build_graph(okved_embeddings, cc_edges, clf_edges, extra_edges)\n",
    "with open(GRAPH_ROOT / 'okved_graph.pickle', 'wb') as fp:\n",
    "    pickle.dump(g, fp)"
   ]
  },
  {
   "cell_type": "code",
   "execution_count": 75,
   "metadata": {},
   "outputs": [],
   "source": [
    "query = \"\"\"\n",
    "  SELECT \n",
    "  SUM(start_price), COUNT(start_price), AVG(start_price),\n",
    "  y.main_okved_code, z.main_okved_code\n",
    "  FROM procurement AS x\n",
    "  INNER JOIN legal_entity AS y \n",
    "  ON x.executor_inn=y.inn\n",
    "  INNER JOIN legal_entity as z\n",
    "  ON x.customer_inn=z.inn \n",
    "  WHERE y.main_okved_code IS NOT NULL \n",
    "  AND z.main_okved_code IS NOT NULL\n",
    "  GROUP BY y.main_okved_code, z.main_okved_code\n",
    "\"\"\"\n",
    "start_prices = pd.DataFrame(cur.execute(query).fetchall(), columns=[\n",
    "    \"sum_gos\", \"count_gos\", \"avg_gos\", \"executor_okved\", \"customer_okved\"\n",
    "])"
   ]
  },
  {
   "cell_type": "code",
   "execution_count": 78,
   "metadata": {},
   "outputs": [],
   "source": [
    "start_prices.to_csv(r\"C:\\Users\\egrli\\FU_Projects\\Курсач\\intelligent_okved_embeddings\\data\\okved2\\start_prices.csv\")"
   ]
  },
  {
   "cell_type": "code",
   "execution_count": 110,
   "metadata": {},
   "outputs": [
    {
     "name": "stderr",
     "output_type": "stream",
     "text": [
      "100%|██████████| 2314058/2314058 [00:02<00:00, 786114.90it/s]\n",
      "100%|██████████| 22915/22915 [00:00<00:00, 23752.88it/s]\n"
     ]
    }
   ],
   "source": []
  },
  {
   "cell_type": "code",
   "execution_count": 116,
   "metadata": {},
   "outputs": [],
   "source": [
    "g = build_graph(okved_embeddings, cc_edges, clf_edges, extra_edges, gos_contracts_edges)\n"
   ]
  },
  {
   "cell_type": "code",
   "execution_count": 123,
   "metadata": {},
   "outputs": [],
   "source": [
    "with open(GRAPH_ROOT / 'okved_graph.pickle', 'wb') as fp:\n",
    "    pickle.dump(g, fp)"
   ]
  },
  {
   "cell_type": "code",
   "execution_count": null,
   "metadata": {},
   "outputs": [],
   "source": []
  }
 ],
 "metadata": {
  "kernelspec": {
   "display_name": "okved_embeddings",
   "language": "python",
   "name": "python3"
  },
  "language_info": {
   "codemirror_mode": {
    "name": "ipython",
    "version": 3
   },
   "file_extension": ".py",
   "mimetype": "text/x-python",
   "name": "python",
   "nbconvert_exporter": "python",
   "pygments_lexer": "ipython3",
   "version": "3.10.0"
  }
 },
 "nbformat": 4,
 "nbformat_minor": 2
}
