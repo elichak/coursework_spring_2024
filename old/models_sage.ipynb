{
 "cells": [
  {
   "cell_type": "code",
   "execution_count": null,
   "id": "94d2df58",
   "metadata": {},
   "outputs": [],
   "source": [
    "import torch.nn as nn\n",
    "import torch\n",
    "import dgl.nn as gnn\n",
    "\n",
    "\n",
    "class SAGE(nn.Module):\n",
    "    def __init__(self, in_feats, n_hidden, n_classes, n_layers,\n",
    "                 activation, dropout,\n",
    "                 freeze, embedding_tensor):\n",
    "        super().__init__()\n",
    "        self.n_layers = n_layers\n",
    "        self.n_hidden = n_hidden\n",
    "        self.n_classes = n_classes\n",
    "        self.layers = nn.ModuleList()\n",
    "\n",
    "        self.freeze = freeze\n",
    "        self.embeddings = nn.Embedding.from_pretrained(embedding_tensor, freeze=self.freeze)\n",
    "\n",
    "        if n_layers > 1:\n",
    "            self.layers.append(\n",
    "                gnn.SAGEConv(in_feats, n_hidden, aggregator_type='mean', activation=activation, feat_drop=dropout))\n",
    "            for i in range(1, n_layers - 1):\n",
    "                self.layers.append(\n",
    "                    gnn.SAGEConv(n_hidden, n_hidden, aggregator_type='mean', activation=activation, feat_drop=dropout))\n",
    "            self.layers.append(gnn.SAGEConv(n_hidden, n_classes, aggregator_type='mean'))\n",
    "        else:\n",
    "            self.layers.append(gnn.SAGEConv(in_feats, n_classes, aggregator_type='mean'))\n",
    "\n",
    "        self.dropout = nn.Dropout(dropout)\n",
    "        self.activation = activation\n",
    "\n",
    "    def forward(self, g, x, okveds):\n",
    "        # получаем эмбеддинги ОКВЭД, конкатенируем с остальными фичами узлов и прогоняем через сеть\n",
    "        okved_embs = self.embeddings(okveds)\n",
    "        h = torch.cat([x, okved_embs], dim=1)\n",
    "        for l, (layer) in enumerate(self.layers):\n",
    "            h = layer(g, h)\n",
    "        return h"
   ]
  }
 ],
 "metadata": {
  "kernelspec": {
   "display_name": "Python 3 (ipykernel)",
   "language": "python",
   "name": "python3"
  },
  "language_info": {
   "codemirror_mode": {
    "name": "ipython",
    "version": 3
   },
   "file_extension": ".py",
   "mimetype": "text/x-python",
   "name": "python",
   "nbconvert_exporter": "python",
   "pygments_lexer": "ipython3",
   "version": "3.9.7"
  }
 },
 "nbformat": 4,
 "nbformat_minor": 5
}
