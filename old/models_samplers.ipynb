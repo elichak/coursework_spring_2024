{
 "cells": [
  {
   "cell_type": "code",
   "execution_count": null,
   "id": "5c13ae1e",
   "metadata": {},
   "outputs": [],
   "source": [
    "import dgl\n",
    "\n",
    "\n",
    "class NegativeHeteroGraphSampler(object):\n",
    "    \"\"\"\n",
    "    Реализует негативное сэмплирование\n",
    "    \"\"\"\n",
    "    def __init__(self, g, neg_examples: int, gamma: float = -0.75) -> None:\n",
    "        self.weights = sum(g.in_degrees(etype=etype) for etype in g.canonical_etypes).float() ** gamma\n",
    "        self.neg_examples = neg_examples\n",
    "\n",
    "    def __call__(self, g, eids_dict: dict) -> dict:\n",
    "        result_dict = {}\n",
    "        for etype, eids in eids_dict.items():\n",
    "            src, _ = g.find_edges(eids, etype=etype)\n",
    "            n = len(src)\n",
    "            dst = self.weights.multinomial(n*self.neg_examples, replacement=True)\n",
    "            src = src.repeat_interleave(self. neg_examples)\n",
    "            result_dict[etype] = (src, dst)\n",
    "        return result_dict"
   ]
  }
 ],
 "metadata": {
  "kernelspec": {
   "display_name": "Python 3 (ipykernel)",
   "language": "python",
   "name": "python3"
  },
  "language_info": {
   "codemirror_mode": {
    "name": "ipython",
    "version": 3
   },
   "file_extension": ".py",
   "mimetype": "text/x-python",
   "name": "python",
   "nbconvert_exporter": "python",
   "pygments_lexer": "ipython3",
   "version": "3.9.7"
  }
 },
 "nbformat": 4,
 "nbformat_minor": 5
}
