{
 "cells": [
  {
   "cell_type": "code",
   "execution_count": 5,
   "metadata": {},
   "outputs": [],
   "source": [
    "from training_utils import eval_model\n",
    "from tqdm.notebook import tqdm\n",
    "import joblib\n",
    "import numpy as np\n",
    "results = []\n",
    "names = ['Cheb', 'DotGat', 'GAT_v2', 'GCN2Conv', 'GAT', 'PNAConv', 'Sage']"
   ]
  },
  {
   "cell_type": "code",
   "execution_count": 4,
   "metadata": {},
   "outputs": [
    {
     "data": {
      "application/vnd.jupyter.widget-view+json": {
       "model_id": "5eceb030ebd34a318df940e1ce7f1877",
       "version_major": 2,
       "version_minor": 0
      },
      "text/plain": [
       "  0%|          | 0/7 [00:00<?, ?it/s]"
      ]
     },
     "metadata": {},
     "output_type": "display_data"
    },
    {
     "name": "stderr",
     "output_type": "stream",
     "text": []
    },
    {
     "name": "stdout",
     "output_type": "stream",
     "text": [
      "Модель: -0.84±1.23\n",
      "Берт: 0.16±0.56\n",
      "SVR BERT: -0.08\n",
      "SVR модель: -1.12\n",
      "Линейная регрессия BERT: 0.09\n",
      "Линейная регрессия модель -0.03\n",
      "---\n"
     ]
    },
    {
     "name": "stderr",
     "output_type": "stream",
     "text": []
    },
    {
     "name": "stdout",
     "output_type": "stream",
     "text": [
      "Модель: -0.30±0.42\n",
      "Берт: 0.13±0.48\n",
      "SVR BERT: -0.08\n",
      "SVR модель: -0.44\n",
      "Линейная регрессия BERT: 0.09\n",
      "Линейная регрессия модель 0.11\n",
      "---\n"
     ]
    },
    {
     "name": "stderr",
     "output_type": "stream",
     "text": []
    },
    {
     "name": "stdout",
     "output_type": "stream",
     "text": [
      "Модель: -0.11±0.35\n",
      "Берт: 0.15±0.44\n",
      "SVR BERT: -0.08\n",
      "SVR модель: -0.44\n",
      "Линейная регрессия BERT: 0.09\n",
      "Линейная регрессия модель 0.12\n",
      "---\n"
     ]
    },
    {
     "name": "stderr",
     "output_type": "stream",
     "text": []
    },
    {
     "name": "stdout",
     "output_type": "stream",
     "text": [
      "Модель: -0.05±0.74\n",
      "Берт: 0.14±0.46\n",
      "SVR BERT: -0.08\n",
      "SVR модель: -0.67\n",
      "Линейная регрессия BERT: 0.09\n",
      "Линейная регрессия модель 0.11\n",
      "---\n"
     ]
    },
    {
     "name": "stderr",
     "output_type": "stream",
     "text": []
    },
    {
     "name": "stdout",
     "output_type": "stream",
     "text": [
      "Модель: -0.36±0.49\n",
      "Берт: 0.23±0.41\n",
      "SVR BERT: -0.08\n",
      "SVR модель: -0.63\n",
      "Линейная регрессия BERT: 0.09\n",
      "Линейная регрессия модель 0.12\n",
      "---\n"
     ]
    },
    {
     "name": "stderr",
     "output_type": "stream",
     "text": []
    },
    {
     "name": "stdout",
     "output_type": "stream",
     "text": [
      "Модель: -0.25±1.34\n",
      "Берт: 0.23±0.38\n",
      "SVR BERT: -0.08\n",
      "SVR модель: -0.61\n",
      "Линейная регрессия BERT: 0.09\n",
      "Линейная регрессия модель 0.11\n",
      "---\n"
     ]
    },
    {
     "name": "stderr",
     "output_type": "stream",
     "text": []
    },
    {
     "name": "stdout",
     "output_type": "stream",
     "text": [
      "Модель: 0.06±0.42\n",
      "Берт: 0.16±0.44\n",
      "SVR BERT: -0.08\n",
      "SVR модель: -0.45\n",
      "Линейная регрессия BERT: 0.09\n",
      "Линейная регрессия модель 0.06\n",
      "---\n"
     ]
    }
   ],
   "source": [
    "for model_name in tqdm(names):\n",
    "    bert_scores, linear_regression_score_bert, svm_score_bert, model_scores, linear_regression_score_model, svm_score_model = eval_model(model_name)\n",
    "    joblib.dump(value=bert_scores, filename=f\"../results/scores/scores_bert.pickle\")\n",
    "    joblib.dump(value=model_scores, filename=f\"../results/scores/scores_{model_name}.pickle\")\n",
    "    print(f'Модель: {np.mean(model_scores):.2f}±{np.std(model_scores):.2f}')\n",
    "    print(f'Берт: {np.mean(bert_scores):.2f}±{np.std(bert_scores):.2f}')\n",
    "    print(f'SVR BERT: {svm_score_bert:.2f}')\n",
    "    print(f'SVR модель: {svm_score_model:.2f}')\n",
    "    print(f'Линейная регрессия BERT: {linear_regression_score_bert:.2f}')\n",
    "    print(f'Линейная регрессия модель {linear_regression_score_model:.2f}')\n",
    "    results.append([bert_scores, linear_regression_score_bert, svm_score_bert, model_scores, linear_regression_score_model, svm_score_model])\n",
    "    print('---')"
   ]
  },
  {
   "cell_type": "code",
   "execution_count": 9,
   "metadata": {},
   "outputs": [],
   "source": [
    "import pandas as pd\n",
    "from sklearn.linear_model import LogisticRegression\n",
    "from sklearn.neural_network import MLPClassifier\n",
    "from sklearn.svm import SVC\n",
    "from sklearn.preprocessing import StandardScaler\n",
    "from training_utils import eval_model, fix_okved\n",
    "from tqdm.notebook import tqdm\n",
    "import joblib\n",
    "import numpy as np"
   ]
  },
  {
   "cell_type": "code",
   "execution_count": 10,
   "metadata": {},
   "outputs": [],
   "source": [
    "def clf_score(version_name, bert_use=True):\n",
    "    okved_data = pd.read_csv('../data/okved2/okved_2014_w_sections.csv', index_col=0)\n",
    "    sections = okved_data['section_id'].values\n",
    "\n",
    "    embeddings_bert = np.load('../data/okved2/okved_embeddings.npy')\n",
    "    # creating mapping for gos description\n",
    "    embeddings_model = np.load(f'../results/embs/{version_name}.npy')\n",
    "\n",
    "    X_bert = embeddings_bert\n",
    "    X_bert = StandardScaler().fit_transform(X_bert)\n",
    "    X_model = embeddings_model\n",
    "    X_model = StandardScaler().fit_transform(X_model)\n",
    "    y = sections\n",
    "    model = LogisticRegression()\n",
    "\n",
    "    bert_scores = []\n",
    "    linear_regression_score_bert, svm_score_bert = 0, 0\n",
    "    if bert_use:\n",
    "        model = LogisticRegression().fit(X_bert, y)\n",
    "        linear_regression_score_bert = model.score(X_bert, y)\n",
    "        model = SVC().fit(X_bert, y)\n",
    "        svm_score_bert = model.score(X_bert, y)\n",
    "        for i in tqdm(range(100), leave=False):\n",
    "            model = MLPClassifier().fit(X_bert, y)\n",
    "            score = model.score(X_bert, y) \n",
    "            bert_scores.append(score)\n",
    "    model_scores = []\n",
    "    model = LogisticRegression().fit(X_model, y)\n",
    "    linear_regression_score_model = model.score(X_model, y)\n",
    "    model = SVC().fit(X_model, y)\n",
    "    svm_score_model = model.score(X_model, y)\n",
    "    for i in tqdm(range(100), leave=False):\n",
    "        model = MLPClassifier().fit(X_model, y)\n",
    "        score = model.score(X_model, y) \n",
    "        model_scores.append(score)\n",
    "    return bert_scores, linear_regression_score_bert, svm_score_bert, model_scores, linear_regression_score_model, svm_score_model\n"
   ]
  },
  {
   "cell_type": "code",
   "execution_count": 4,
   "metadata": {},
   "outputs": [],
   "source": [
    "import warnings\n",
    "warnings.filterwarnings('ignore')"
   ]
  },
  {
   "cell_type": "code",
   "execution_count": 7,
   "metadata": {},
   "outputs": [
    {
     "data": {
      "application/vnd.jupyter.widget-view+json": {
       "model_id": "2e2cef5fad6746fcb9f7ef92dfa62c1a",
       "version_major": 2,
       "version_minor": 0
      },
      "text/plain": [
       "  0%|          | 0/7 [00:00<?, ?it/s]"
      ]
     },
     "metadata": {},
     "output_type": "display_data"
    },
    {
     "name": "stdout",
     "output_type": "stream",
     "text": [
      "Cheb\n"
     ]
    },
    {
     "data": {
      "application/vnd.jupyter.widget-view+json": {
       "model_id": "9fd5af8025b1479f9dfbfd30146bbcba",
       "version_major": 2,
       "version_minor": 0
      },
      "text/plain": [
       "  0%|          | 0/100 [00:00<?, ?it/s]"
      ]
     },
     "metadata": {},
     "output_type": "display_data"
    },
    {
     "data": {
      "application/vnd.jupyter.widget-view+json": {
       "model_id": "d236ff0e09024b23819301f33e6c98e0",
       "version_major": 2,
       "version_minor": 0
      },
      "text/plain": [
       "  0%|          | 0/100 [00:00<?, ?it/s]"
      ]
     },
     "metadata": {},
     "output_type": "display_data"
    },
    {
     "name": "stdout",
     "output_type": "stream",
     "text": [
      "Модель: 0.99±0.00\n",
      "Берт: 1.00±0.00\n",
      "SVR BERT: 1.00\n",
      "SVR модель: 0.92\n",
      "Линейная регрессия BERT: 1.00\n",
      "Линейная регрессия модель 0.97\n",
      "---\n",
      "DotGat\n"
     ]
    },
    {
     "data": {
      "application/vnd.jupyter.widget-view+json": {
       "model_id": "bef55c50313a48c89510fca2eab4af7a",
       "version_major": 2,
       "version_minor": 0
      },
      "text/plain": [
       "  0%|          | 0/100 [00:00<?, ?it/s]"
      ]
     },
     "metadata": {},
     "output_type": "display_data"
    },
    {
     "data": {
      "application/vnd.jupyter.widget-view+json": {
       "model_id": "e31947c1277d45d4a4fb5df4a10e026b",
       "version_major": 2,
       "version_minor": 0
      },
      "text/plain": [
       "  0%|          | 0/100 [00:00<?, ?it/s]"
      ]
     },
     "metadata": {},
     "output_type": "display_data"
    },
    {
     "name": "stdout",
     "output_type": "stream",
     "text": [
      "Модель: 0.99±0.00\n",
      "Берт: 1.00±0.00\n",
      "SVR BERT: 1.00\n",
      "SVR модель: 0.97\n",
      "Линейная регрессия BERT: 1.00\n",
      "Линейная регрессия модель 0.98\n",
      "---\n",
      "GAT_v2\n"
     ]
    },
    {
     "data": {
      "application/vnd.jupyter.widget-view+json": {
       "model_id": "8ab532019ba947b99a41483ef12de45b",
       "version_major": 2,
       "version_minor": 0
      },
      "text/plain": [
       "  0%|          | 0/100 [00:00<?, ?it/s]"
      ]
     },
     "metadata": {},
     "output_type": "display_data"
    },
    {
     "data": {
      "application/vnd.jupyter.widget-view+json": {
       "model_id": "96110b370ee04ead97e4b49d907bc07b",
       "version_major": 2,
       "version_minor": 0
      },
      "text/plain": [
       "  0%|          | 0/100 [00:00<?, ?it/s]"
      ]
     },
     "metadata": {},
     "output_type": "display_data"
    },
    {
     "name": "stdout",
     "output_type": "stream",
     "text": [
      "Модель: 0.99±0.00\n",
      "Берт: 1.00±0.00\n",
      "SVR BERT: 1.00\n",
      "SVR модель: 0.97\n",
      "Линейная регрессия BERT: 1.00\n",
      "Линейная регрессия модель 0.99\n",
      "---\n",
      "GCN2Conv\n"
     ]
    },
    {
     "data": {
      "application/vnd.jupyter.widget-view+json": {
       "model_id": "60a021f87690434490e3f9bd29fb6df7",
       "version_major": 2,
       "version_minor": 0
      },
      "text/plain": [
       "  0%|          | 0/100 [00:00<?, ?it/s]"
      ]
     },
     "metadata": {},
     "output_type": "display_data"
    },
    {
     "data": {
      "application/vnd.jupyter.widget-view+json": {
       "model_id": "c011e8f4e88d4f67800a1887eb779a3d",
       "version_major": 2,
       "version_minor": 0
      },
      "text/plain": [
       "  0%|          | 0/100 [00:00<?, ?it/s]"
      ]
     },
     "metadata": {},
     "output_type": "display_data"
    },
    {
     "name": "stdout",
     "output_type": "stream",
     "text": [
      "Модель: 1.00±0.00\n",
      "Берт: 1.00±0.00\n",
      "SVR BERT: 1.00\n",
      "SVR модель: 0.97\n",
      "Линейная регрессия BERT: 1.00\n",
      "Линейная регрессия модель 1.00\n",
      "---\n",
      "GAT\n"
     ]
    },
    {
     "data": {
      "application/vnd.jupyter.widget-view+json": {
       "model_id": "c3558c2b99c04b81b1fe5730e4e17198",
       "version_major": 2,
       "version_minor": 0
      },
      "text/plain": [
       "  0%|          | 0/100 [00:00<?, ?it/s]"
      ]
     },
     "metadata": {},
     "output_type": "display_data"
    },
    {
     "data": {
      "application/vnd.jupyter.widget-view+json": {
       "model_id": "5c9c96f52d1e41ffa3e68b6d93ead336",
       "version_major": 2,
       "version_minor": 0
      },
      "text/plain": [
       "  0%|          | 0/100 [00:00<?, ?it/s]"
      ]
     },
     "metadata": {},
     "output_type": "display_data"
    },
    {
     "name": "stdout",
     "output_type": "stream",
     "text": [
      "Модель: 0.99±0.00\n",
      "Берт: 1.00±0.00\n",
      "SVR BERT: 1.00\n",
      "SVR модель: 0.96\n",
      "Линейная регрессия BERT: 1.00\n",
      "Линейная регрессия модель 0.98\n",
      "---\n",
      "PNAConv\n"
     ]
    },
    {
     "data": {
      "application/vnd.jupyter.widget-view+json": {
       "model_id": "5563236c2a774e89900bf140b995eedc",
       "version_major": 2,
       "version_minor": 0
      },
      "text/plain": [
       "  0%|          | 0/100 [00:00<?, ?it/s]"
      ]
     },
     "metadata": {},
     "output_type": "display_data"
    },
    {
     "data": {
      "application/vnd.jupyter.widget-view+json": {
       "model_id": "b3edf4655341479caee0443bd8be91be",
       "version_major": 2,
       "version_minor": 0
      },
      "text/plain": [
       "  0%|          | 0/100 [00:00<?, ?it/s]"
      ]
     },
     "metadata": {},
     "output_type": "display_data"
    },
    {
     "name": "stdout",
     "output_type": "stream",
     "text": [
      "Модель: 1.00±0.00\n",
      "Берт: 1.00±0.00\n",
      "SVR BERT: 1.00\n",
      "SVR модель: 1.00\n",
      "Линейная регрессия BERT: 1.00\n",
      "Линейная регрессия модель 1.00\n",
      "---\n",
      "Sage\n"
     ]
    },
    {
     "data": {
      "application/vnd.jupyter.widget-view+json": {
       "model_id": "7b4555bd769c49f099a0020a19387646",
       "version_major": 2,
       "version_minor": 0
      },
      "text/plain": [
       "  0%|          | 0/100 [00:00<?, ?it/s]"
      ]
     },
     "metadata": {},
     "output_type": "display_data"
    },
    {
     "data": {
      "application/vnd.jupyter.widget-view+json": {
       "model_id": "cccd452318c34c2bb255f65ee31e320e",
       "version_major": 2,
       "version_minor": 0
      },
      "text/plain": [
       "  0%|          | 0/100 [00:00<?, ?it/s]"
      ]
     },
     "metadata": {},
     "output_type": "display_data"
    },
    {
     "name": "stdout",
     "output_type": "stream",
     "text": [
      "Модель: 1.00±0.00\n",
      "Берт: 1.00±0.00\n",
      "SVR BERT: 1.00\n",
      "SVR модель: 0.99\n",
      "Линейная регрессия BERT: 1.00\n",
      "Линейная регрессия модель 1.00\n",
      "---\n"
     ]
    }
   ],
   "source": [
    "results = []\n",
    "names = ['Cheb', 'DotGat', 'GAT_v2', 'GCN2Conv', 'GAT', 'PNAConv', 'Sage']\n",
    "for model_name in tqdm(names):\n",
    "    print(model_name)\n",
    "    bert_scores, linear_regression_score_bert, svm_score_bert, model_scores, linear_regression_score_model, svm_score_model = clf_score(model_name)\n",
    "    joblib.dump(value=bert_scores, filename=f\"../results/scores/scores_bert.pickle\")\n",
    "    joblib.dump(value=model_scores, filename=f\"../results/scores/scores_{model_name}.pickle\")\n",
    "    print(f'Модель: {np.mean(model_scores):.2f}±{np.std(model_scores):.2f}')\n",
    "    print(f'Берт: {np.mean(bert_scores):.2f}±{np.std(bert_scores):.2f}')\n",
    "    print(f'SVR BERT: {svm_score_bert:.2f}')\n",
    "    print(f'SVR модель: {svm_score_model:.2f}')\n",
    "    print(f'Линейная регрессия BERT: {linear_regression_score_bert:.2f}')\n",
    "    print(f'Линейная регрессия модель {linear_regression_score_model:.2f}')\n",
    "    results.append([bert_scores, linear_regression_score_bert, svm_score_bert, model_scores, linear_regression_score_model, svm_score_model])\n",
    "    print('---')"
   ]
  },
  {
   "cell_type": "code",
   "execution_count": 6,
   "metadata": {},
   "outputs": [],
   "source": [
    "model_name = 'rgcn'"
   ]
  },
  {
   "cell_type": "code",
   "execution_count": 8,
   "metadata": {},
   "outputs": [
    {
     "name": "stdout",
     "output_type": "stream",
     "text": [
      "rgcn\n"
     ]
    },
    {
     "name": "stderr",
     "output_type": "stream",
     "text": [
      "                                                 "
     ]
    },
    {
     "name": "stdout",
     "output_type": "stream",
     "text": [
      "Модель: 0.17±0.44\n",
      "Берт: 0.15±0.43\n",
      "SVR BERT: -0.08\n",
      "SVR модель: -0.54\n",
      "Линейная регрессия BERT: 0.09\n",
      "Линейная регрессия модель 0.06\n",
      "---\n"
     ]
    },
    {
     "name": "stderr",
     "output_type": "stream",
     "text": [
      "\r"
     ]
    }
   ],
   "source": [
    "print(model_name)\n",
    "bert_scores, linear_regression_score_bert, svm_score_bert, model_scores, linear_regression_score_model, svm_score_model = eval_model(model_name)\n",
    "joblib.dump(value=bert_scores, filename=f\"../results/scores/scores_bert.pickle\")\n",
    "joblib.dump(value=model_scores, filename=f\"../results/scores/scores_{model_name}.pickle\")\n",
    "print(f'Модель: {np.mean(model_scores):.2f}±{np.std(model_scores):.2f}')\n",
    "print(f'Берт: {np.mean(bert_scores):.2f}±{np.std(bert_scores):.2f}')\n",
    "print(f'SVR BERT: {svm_score_bert:.2f}')\n",
    "print(f'SVR модель: {svm_score_model:.2f}')\n",
    "print(f'Линейная регрессия BERT: {linear_regression_score_bert:.2f}')\n",
    "print(f'Линейная регрессия модель {linear_regression_score_model:.2f}')\n",
    "results.append([bert_scores, linear_regression_score_bert, svm_score_bert, model_scores, linear_regression_score_model, svm_score_model])\n",
    "print('---')"
   ]
  },
  {
   "cell_type": "code",
   "execution_count": 11,
   "metadata": {},
   "outputs": [
    {
     "name": "stdout",
     "output_type": "stream",
     "text": [
      "rgcn\n"
     ]
    },
    {
     "data": {
      "application/vnd.jupyter.widget-view+json": {
       "model_id": "a0bc58927422421ea3a77521ded98b8e",
       "version_major": 2,
       "version_minor": 0
      },
      "text/plain": [
       "  0%|          | 0/100 [00:00<?, ?it/s]"
      ]
     },
     "metadata": {},
     "output_type": "display_data"
    },
    {
     "data": {
      "application/vnd.jupyter.widget-view+json": {
       "model_id": "d16389a329aa4e62a3335e28aa3fca91",
       "version_major": 2,
       "version_minor": 0
      },
      "text/plain": [
       "  0%|          | 0/100 [00:00<?, ?it/s]"
      ]
     },
     "metadata": {},
     "output_type": "display_data"
    },
    {
     "name": "stdout",
     "output_type": "stream",
     "text": [
      "Модель: 1.00±0.00\n",
      "Берт: 1.00±0.00\n",
      "SVR BERT: 1.00\n",
      "SVR модель: 0.97\n",
      "Линейная регрессия BERT: 1.00\n",
      "Линейная регрессия модель 1.00\n",
      "---\n"
     ]
    }
   ],
   "source": [
    "print(model_name)\n",
    "bert_scores, linear_regression_score_bert, svm_score_bert, model_scores, linear_regression_score_model, svm_score_model = clf_score(model_name)\n",
    "print(f'Модель: {np.mean(model_scores):.2f}±{np.std(model_scores):.2f}')\n",
    "print(f'Берт: {np.mean(bert_scores):.2f}±{np.std(bert_scores):.2f}')\n",
    "print(f'SVR BERT: {svm_score_bert:.2f}')\n",
    "print(f'SVR модель: {svm_score_model:.2f}')\n",
    "print(f'Линейная регрессия BERT: {linear_regression_score_bert:.2f}')\n",
    "print(f'Линейная регрессия модель {linear_regression_score_model:.2f}')\n",
    "results.append([bert_scores, linear_regression_score_bert, svm_score_bert, model_scores, linear_regression_score_model, svm_score_model])\n",
    "print('---')"
   ]
  },
  {
   "cell_type": "code",
   "execution_count": 12,
   "metadata": {},
   "outputs": [],
   "source": [
    "model_name='rgcn_'"
   ]
  },
  {
   "cell_type": "code",
   "execution_count": 13,
   "metadata": {},
   "outputs": [
    {
     "name": "stdout",
     "output_type": "stream",
     "text": [
      "rgcn_\n"
     ]
    },
    {
     "name": "stderr",
     "output_type": "stream",
     "text": [
      "                                                 \r"
     ]
    },
    {
     "name": "stdout",
     "output_type": "stream",
     "text": [
      "Модель: 0.19±0.47\n",
      "Берт: 0.14±0.51\n",
      "SVR BERT: -0.08\n",
      "SVR модель: -0.54\n",
      "Линейная регрессия BERT: 0.09\n",
      "Линейная регрессия модель 0.06\n",
      "---\n",
      "rgcn_\n"
     ]
    },
    {
     "data": {
      "application/vnd.jupyter.widget-view+json": {
       "model_id": "3ab26cdd4d674e388232dcf1588aad03",
       "version_major": 2,
       "version_minor": 0
      },
      "text/plain": [
       "  0%|          | 0/100 [00:00<?, ?it/s]"
      ]
     },
     "metadata": {},
     "output_type": "display_data"
    },
    {
     "data": {
      "application/vnd.jupyter.widget-view+json": {
       "model_id": "ea27ab0958cf465a9ca8cb0cb14a9b6c",
       "version_major": 2,
       "version_minor": 0
      },
      "text/plain": [
       "  0%|          | 0/100 [00:00<?, ?it/s]"
      ]
     },
     "metadata": {},
     "output_type": "display_data"
    },
    {
     "name": "stdout",
     "output_type": "stream",
     "text": [
      "Модель: 1.00±0.00\n",
      "Берт: 1.00±0.00\n",
      "SVR BERT: 1.00\n",
      "SVR модель: 0.97\n",
      "Линейная регрессия BERT: 1.00\n",
      "Линейная регрессия модель 1.00\n",
      "---\n"
     ]
    }
   ],
   "source": [
    "print(model_name)\n",
    "bert_scores, linear_regression_score_bert, svm_score_bert, model_scores, linear_regression_score_model, svm_score_model = eval_model(model_name)\n",
    "joblib.dump(value=bert_scores, filename=f\"../results/scores/scores_bert.pickle\")\n",
    "joblib.dump(value=model_scores, filename=f\"../results/scores/scores_{model_name}.pickle\")\n",
    "print(f'Модель: {np.mean(model_scores):.2f}±{np.std(model_scores):.2f}')\n",
    "print(f'Берт: {np.mean(bert_scores):.2f}±{np.std(bert_scores):.2f}')\n",
    "print(f'SVR BERT: {svm_score_bert:.2f}')\n",
    "print(f'SVR модель: {svm_score_model:.2f}')\n",
    "print(f'Линейная регрессия BERT: {linear_regression_score_bert:.2f}')\n",
    "print(f'Линейная регрессия модель {linear_regression_score_model:.2f}')\n",
    "results.append([bert_scores, linear_regression_score_bert, svm_score_bert, model_scores, linear_regression_score_model, svm_score_model])\n",
    "print('---')\n",
    "print(model_name)\n",
    "bert_scores, linear_regression_score_bert, svm_score_bert, model_scores, linear_regression_score_model, svm_score_model = clf_score(model_name)\n",
    "print(f'Модель: {np.mean(model_scores):.2f}±{np.std(model_scores):.2f}')\n",
    "print(f'Берт: {np.mean(bert_scores):.2f}±{np.std(bert_scores):.2f}')\n",
    "print(f'SVR BERT: {svm_score_bert:.2f}')\n",
    "print(f'SVR модель: {svm_score_model:.2f}')\n",
    "print(f'Линейная регрессия BERT: {linear_regression_score_bert:.2f}')\n",
    "print(f'Линейная регрессия модель {linear_regression_score_model:.2f}')\n",
    "results.append([bert_scores, linear_regression_score_bert, svm_score_bert, model_scores, linear_regression_score_model, svm_score_model])\n",
    "print('---')"
   ]
  },
  {
   "cell_type": "code",
   "execution_count": null,
   "metadata": {},
   "outputs": [],
   "source": []
  },
  {
   "cell_type": "code",
   "execution_count": null,
   "metadata": {},
   "outputs": [],
   "source": []
  }
 ],
 "metadata": {
  "kernelspec": {
   "display_name": "okved_embeddings",
   "language": "python",
   "name": "python3"
  },
  "language_info": {
   "codemirror_mode": {
    "name": "ipython",
    "version": 3
   },
   "file_extension": ".py",
   "mimetype": "text/x-python",
   "name": "python",
   "nbconvert_exporter": "python",
   "pygments_lexer": "ipython3",
   "version": "3.10.0"
  }
 },
 "nbformat": 4,
 "nbformat_minor": 2
}
